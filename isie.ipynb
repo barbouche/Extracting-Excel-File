{
 "cells": [
  {
   "cell_type": "code",
   "execution_count": null,
   "metadata": {},
   "outputs": [],
   "source": [
    "import requests\n",
    "import lxml.html as lh\n",
    "import pandas as pd\n",
    "from bs4 import BeautifulSoup\n",
    "from pprint import pprint\n",
    "import re\n",
    "import time\n",
    "from selenium import webdriver\n",
    "from selenium.webdriver.firefox.firefox_binary import FirefoxBinary \n",
    "from selenium.webdriver.common.keys import Keys   # For keyboard keys \n",
    "from selenium.webdriver.chrome.options import Options\n",
    "import datetime\n",
    "import argparse\n",
    "import os\n",
    "from selenium.webdriver.support.ui import WebDriverWait\n",
    "from urllib.parse import urlparse,urlsplit,parse_qs,parse_qsl,urlencode,urlunparse\n",
    "from pathlib import Path\n",
    "from selenium.common.exceptions import NoSuchElementException\n",
    "\n"
   ]
  },
  {
   "cell_type": "code",
   "execution_count": null,
   "metadata": {
    "scrolled": true
   },
   "outputs": [],
   "source": [
    "chrome_options = Options()\n",
    "path = \"/home/ahmed/labs/isie/\"\n",
    "chrome_options.add_experimental_option(\"prefs\", {\n",
    "  \"download.default_directory\": path,\n",
    "  \"download.prompt_for_download\": False,\n",
    "  \"download.directory_upgrade\": True,\n",
    "  \"safebrowsing.enabled\": True\n",
    "})\n",
    "chrome_options.add_argument('--headless')\n",
    "chrome_options.add_argument('--no-sandbox')\n",
    "chrome_options.add_argument('--disable-dev-shm-usage')\n",
    "locate_driver = '/usr/lib/chromium-browser/chromedriver'\n",
    "driver = webdriver.Chrome(locate_driver,options=chrome_options)\n",
    "#validés:\n",
    "#http://www.isie.tn/resultats/resultats-presidentielles/election-presidentielle-1er-tour/ \n",
    "#http://www.isie.tn/elections/election-2011/\n",
    "#http://www.isie.tn/elections/elections-municipales-2018/resultats/\n",
    "#http://www.isie.tn/resultats/resultats-presidentielles/election-presidentielle-2eme-tour/\n",
    "url = 'http://www.isie.tn/resultats/resultats-presidentielles/election-presidentielle-2eme-tour/'\n",
    "#url_parse = urlparse(url)\n",
    "driver.get(url)"
   ]
  },
  {
   "cell_type": "code",
   "execution_count": null,
   "metadata": {},
   "outputs": [],
   "source": [
    "driver"
   ]
  },
  {
   "cell_type": "code",
   "execution_count": null,
   "metadata": {},
   "outputs": [],
   "source": [
    "start_time = time.time()\n",
    "driver.refresh();\n",
    "time.sleep(1)\n",
    "list_csv_link= []\n",
    "#this class is the global class existed on all page \n",
    "html_list = driver.find_element_by_class_name(\"entry-content\")\n",
    "#check if buton plus exist because if existed we should click all folder to get link inside\n",
    "try:\n",
    "    plus_button=driver.find_element_by_class_name(\"treeview\")\n",
    "    plus_list_exist=True\n",
    "except NoSuchElementException:\n",
    "    print(\"No plus button found\")\n",
    "    plus_list_exist=False\n",
    "links = html_list.find_elements_by_tag_name('a')\n",
    "print('fetching all Files')\n",
    "#loop on all link exist in html \n",
    "for num,link in enumerate(links):\n",
    "    print(link.get_attribute(\"href\"))\n",
    "    #for check if buton plus exist\n",
    "    if plus_list_exist:\n",
    "            #for check if is link wich contain files \n",
    "        if '#' in link.get_attribute(\"href\"):\n",
    "                #print(link.text)\n",
    "            link.click()\n",
    "            time.sleep(0.5)            \n",
    "    if link.get_attribute('href').endswith('.xlsx'):\n",
    "        dicti = {'region':link.text,'link':link.get_attribute('href')}      \n",
    "        list_csv_link.append(dicti)\n",
    "#this because after links is opened in case button plus, we should refind all new links that appears        \n",
    "if plus_list_exist:\n",
    "    links = html_list.find_elements_by_tag_name('a')\n",
    "    list_csv_link = [{'region':link.text,'link':link.get_attribute('href')} for link in links if link.get_attribute('href').endswith('.xlsx')]\n",
    "print('we have traited ' + str(num) + ' link and files')\n",
    "print(\"--- %s seconds ---\" % (time.time() - start_time))"
   ]
  },
  {
   "cell_type": "code",
   "execution_count": null,
   "metadata": {},
   "outputs": [],
   "source": [
    "list_csv_link"
   ]
  },
  {
   "cell_type": "code",
   "execution_count": null,
   "metadata": {},
   "outputs": [],
   "source": [
    "len()"
   ]
  },
  {
   "cell_type": "code",
   "execution_count": null,
   "metadata": {},
   "outputs": [],
   "source": [
    "#Download part and folder structuration\n",
    "base_folder = os.path.basename(os.path.dirname(url))\n",
    "if not os.path.exists(path+base_folder):\n",
    "    for link in list_csv_link:\n",
    "        if link.get('region') !='':\n",
    "            filename =  link.get('region')\n",
    "        else:\n",
    "            file_name_start_pos = link.get('link').rfind(\"/\") + 1\n",
    "            filename = link.get('link')[file_name_start_pos:]\n",
    "            link_path_fileless = filename\n",
    "        if '%' in link.get('link'):\n",
    "            file_name_start =link.get('link').rfind(\"/\") \n",
    "            file_name = link.get('link')[file_name_start:]\n",
    "            link_fileless = link.get('link').replace(file_name,\"\")\n",
    "            folder_name_start_pos =link_fileless.rfind(\"/\") + 1\n",
    "            folder_name_from_path = link_fileless[folder_name_start_pos:]\n",
    "            \n",
    "            if '%' in folder_name_from_path:\n",
    "                sub_folder = os.path.basename(os.path.dirname(link_fileless)) \n",
    "            else:\n",
    "                sub_folder = os.path.basename(os.path.basename(urlparse(link_fileless).path))  \n",
    "        #sub_folder = os.path.basename(os.path.basename(urlparse(os.path.dirname(os.path.dirname(link.get('link') ))).path)) \n",
    "        else:\n",
    "            sub_folder = os.path.basename(os.path.dirname( link.get('link')))\n",
    "        if not os.path.exists(path+base_folder+'/'+sub_folder):\n",
    "            os.makedirs(path+base_folder+'/'+sub_folder)\n",
    "        r = requests.get( link.get('link'), stream=True)\n",
    "        if r.status_code == requests.codes.ok:\n",
    "            with open(path+base_folder +'/'+sub_folder+'/'+filename, 'wb') as f:\n",
    "                for data in r:\n",
    "                    f.write(data)\n",
    "    print('Done.')\n",
    "else:\n",
    "    print('folder ' +base_folder+' already exist, maybe you have donwloaded the files .')     "
   ]
  },
  {
   "cell_type": "code",
   "execution_count": null,
   "metadata": {},
   "outputs": [],
   "source": []
  }
 ],
 "metadata": {
  "kernelspec": {
   "display_name": "Python 3",
   "language": "python",
   "name": "python3"
  },
  "language_info": {
   "codemirror_mode": {
    "name": "ipython",
    "version": 3
   },
   "file_extension": ".py",
   "mimetype": "text/x-python",
   "name": "python",
   "nbconvert_exporter": "python",
   "pygments_lexer": "ipython3",
   "version": "3.6.8"
  }
 },
 "nbformat": 4,
 "nbformat_minor": 2
}
